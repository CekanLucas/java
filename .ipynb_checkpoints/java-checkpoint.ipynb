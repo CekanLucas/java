{
 "cells": [
  {
   "cell_type": "markdown",
   "metadata": {},
   "source": [
    "# JAVA \n",
    "\n",
    "> The High Level Object Orientated Language"
   ]
  },
  {
   "cell_type": "code",
   "execution_count": 1,
   "metadata": {
    "vscode": {
     "languageId": "java"
    }
   },
   "outputs": [
    {
     "name": "stdout",
     "output_type": "stream",
     "text": [
      "Welcome to Java!\n"
     ]
    }
   ],
   "source": [
    "System.out.println(\"Welcome to Java!\"); // print to console"
   ]
  },
  {
   "cell_type": "code",
   "execution_count": 2,
   "metadata": {
    "vscode": {
     "languageId": "java"
    }
   },
   "outputs": [
    {
     "name": "stdout",
     "output_type": "stream",
     "text": [
      "Welcome to Java!\n"
     ]
    }
   ],
   "source": [
    "public class Welcome { // class\n",
    "  public static void main(String[] args) { //main method\n",
    "    System.out.println(\"Welcome to Java!\");\n",
    "  }\n",
    "}\n",
    "\n",
    "Welcome.main(new String[0]);"
   ]
  },
  {
   "cell_type": "markdown",
   "metadata": {},
   "source": [
    "> **`main`** is the entry point of the program"
   ]
  },
  {
   "cell_type": "code",
   "execution_count": null,
   "metadata": {
    "vscode": {
     "languageId": "java"
    }
   },
   "outputs": [],
   "source": [
    "/** This is a JSDoc comment\n",
    " * Provide A <u>Brief Description</u> of Class\n",
    " * @author Lucas\n",
    "*/\n",
    "public class ComputeExpression {\n",
    "  public static void main(String[] args) {\n",
    "    System.out.print(\"(10.5 + 2 * 3) / (45 - 3.5) =\");\n",
    "    System.out.println((10.5 + 2 * 3) / (45 - 3.5));\n",
    "  }\n",
    "}\n",
    "\n",
    "ComputeExpression.main(new String[0]);"
   ]
  },
  {
   "cell_type": "markdown",
   "metadata": {},
   "source": [
    "## Compiling and Running a Java Program\n",
    "\n",
    "1) Write a *sourcefile* hello_world.java \n",
    "2) In terminal `$ javac Welcome.java`\n",
    "3) Run compiled file `$ java Welcome`\n",
    "4) Output in console or terminal:\n",
    "\n",
    "> Welcome to Java!\n",
    "\n",
    "```{note} \n",
    "`javac` comes from the jdk (**J**ava **D**evelopment **K**it) it is the java compiler to compile java source files to bytecode   \n",
    "```\n",
    "\n",
    "``` {mermaid} \n",
    "graph LR;\n",
    "  javaCode(Java Code) == Compiler ==> code(Intermediary Code);\n",
    "  code == JVM ==> nativeCode(Native Code);\n",
    "```"
   ]
  },
  {
   "cell_type": "code",
   "execution_count": 1,
   "metadata": {
    "vscode": {
     "languageId": "java"
    }
   },
   "outputs": [
    {
     "name": "stdout",
     "output_type": "stream",
     "text": [
      "1\n",
      "1.8\n"
     ]
    }
   ],
   "source": [
    "System.out.println(9 / 5); // incorrect \n",
    "System.out.println(9.0 / 5); // correct \n",
    "\n",
    "/* In java you can't divide two integers you need to convert one to floating point */"
   ]
  },
  {
   "cell_type": "code",
   "execution_count": 2,
   "metadata": {
    "vscode": {
     "languageId": "java"
    }
   },
   "outputs": [
    {
     "name": "stdout",
     "output_type": "stream",
     "text": [
      "5\n",
      "12\n"
     ]
    }
   ],
   "source": [
    "// Variables\n",
    "\n",
    "int count; // declare integer named count\n",
    "count = 5; // assign value of 5 to variable count\n",
    "\n",
    "System.out.println(count); // print variable to console\n",
    "\n",
    "// Increase value of count by 5\n",
    "// count = count + 5; // equivalent to below\n",
    "count += 5; \n",
    "count++;\n",
    "\n",
    "System.out.println(++count); // print new value\n",
    "\n",
    "// NOTE: played around with decrement increment operators"
   ]
  },
  {
   "cell_type": "code",
   "execution_count": null,
   "metadata": {
    "vscode": {
     "languageId": "java"
    }
   },
   "outputs": [],
   "source": [
    "/* Start by Making Pseudo code */\n",
    "\n",
    "public class ComputeArea {\n",
    "  public static void main (String[] args) {\n",
    "    // Step 1: Read in radius\n",
    "    // Step 2: Compute area\n",
    "    // Step 3: Display\n",
    "  }\n",
    "}"
   ]
  },
  {
   "cell_type": "code",
   "execution_count": null,
   "metadata": {
    "vscode": {
     "languageId": "java"
    }
   },
   "outputs": [],
   "source": [
    "public class ComputeArea {\n",
    "  public static void main (String[] args) {\n",
    "    double radius;\n",
    "    radius = 20; // assign a radius\n",
    "    double area;\n",
    "\n",
    "    area = radius * radius * 3.14159;\n",
    "\n",
    "    System.out.println(\"The area for the circle of radius \" + radius + \" is \" + area);\n",
    "  }\n",
    "}\n",
    "ComputeArea.main(new String[0]);"
   ]
  },
  {
   "cell_type": "markdown",
   "metadata": {},
   "source": [
    "#### Identifiers\n",
    "\n",
    "Any name in Java is termed a **identifier**\n",
    "\n",
    "Here are the rules:\n",
    "- consists of letters digits, underscores `_` and dollar signs `$`\n",
    "- can't start with digit\n",
    "- can't be reserved keyword\n",
    "- can't be `true`, `false` or `null`\n",
    "- can be of any length\n",
    "- remember Java is case sensitive"
   ]
  },
  {
   "cell_type": "code",
   "execution_count": null,
   "metadata": {
    "vscode": {
     "languageId": "java"
    }
   },
   "outputs": [],
   "source": [
    "// You can assign variables inside function\n",
    "int x;\n",
    "System.out.println(x = 1);\n",
    "\n",
    "// Equivalent to something like\n",
    "int X = 1;\n",
    "System.out.println(X);\n",
    "\n",
    "// multiple assignments\n",
    "int i, j, k; \n",
    "i = j = k = 1;\n",
    "System.out.println(i + j + k);\n",
    "\n",
    "/* Equivalent to:\n",
    " * k = 1;\n",
    " * j = k;\n",
    " * i = j;\n",
    "*/\n",
    "\n",
    "/* CONSTANTS */\n",
    "// final datatype CONSTANTNAME = value;\n",
    "// naming conventions: Capitalize everything and use _ between words\n",
    "final double PI = 3.14;\n",
    "System.out.println(\"The constant of pi is \" + PI);\n",
    "\n",
    "/* Type Casting */\n",
    "System.out.println(\"Float of 1.7 casted as int:\\t\" + (int)1.7F);\n",
    "System.out.println(\"1 / 2 is wrong because Java sees both as int:\\t\" + 1/2);\n",
    "\n",
    "int sum = 0;\n",
    "sum += 4.5; // sum becomes 4 after this statement\n",
    "// sum += 4.5 is equivalent to sum = (int)(sum + 4.5)"
   ]
  },
  {
   "cell_type": "markdown",
   "metadata": {},
   "source": [
    "### Numeric Types\n",
    "\n",
    "| Name        | Range      | Storage Size   |\n",
    "| ----        | -----      | ------------   |\n",
    "| **byte**    | $\\pm 2^7$  | 8-bit signed   |\n",
    "| **short**   | $\\pm 2^16$ | 16-bit signed  |\n",
    "| **int**     | $\\pm 2^31$ | 32-bit signed  |\n",
    "| **long**    | $\\pm 2^63$ | 64-bit signed  |\n",
    "| **float**   |            | 32-bit IEEE    |\n",
    "| **double**  |            | 64-bit IEEE    |\n",
    "\n",
    "```{note} \n",
    "**IEEE 754** a standard approved by the Institute of Electrical and Electronics Engineers for representing floating-point numbers on computers\n",
    "```"
   ]
  },
  {
   "cell_type": "code",
   "execution_count": null,
   "metadata": {
    "vscode": {
     "languageId": "java"
    }
   },
   "outputs": [],
   "source": [
    "byte er, b; // byte range is +-2^7 (8 bit) or -128 to 127\n",
    "System.out.println(b = 127);\n",
    "System.out.println(er = 128); // should error because going out of bounds of a byte\n",
    "\n"
   ]
  },
  {
   "cell_type": "markdown",
   "metadata": {},
   "source": [
    "#### Numeric Literals\n",
    "\n",
    "literal\n",
    ": It's a constant value that appears directly in a program\n",
    "\n",
    "```java\n",
    "// 34 and 0.305 are literals\n",
    "int numberOfYears = 34;\n",
    "double weight = 0.305;\n",
    "```"
   ]
  },
  {
   "cell_type": "code",
   "execution_count": null,
   "metadata": {
    "vscode": {
     "languageId": "java"
    }
   },
   "outputs": [],
   "source": [
    "System.out.println(0B1111); // 0B or 0b at the start denotes a binary literal\n",
    "System.out.println(07777); // leading 0 denotes a octal number\n",
    "System.out.println(0XFFFF); // leading 0x or 0X denotes a hexadecimal literal\n",
    "\n",
    "// To improve readability you can use _ in between numbers\n",
    "long ssn = 232_45_4519;\n",
    "long creditCardNumber = 2324_4545_4519_3415L;\n",
    "\n",
    "System.out.println(\"ssn:\\t\" + ssn + \"\\tCredit Card Number:\\t\" + creditCardNumber);\n",
    "\n",
    "// FLOATING POINT LITERALS\n",
    "// by default if you use a decimal point Java sees it as a double\n",
    "System.out.println(\"This is a double:\\t\" + 1.0/3.0 + \"\\nThis is a float:\\t\" + 1.0f/3.0F);\n",
    "\n",
    "// Scientific Notation \n",
    "System.out.println(\"This is in scientific notation:\\t\" + 5.0534E+2);\n",
    "\n",
    "// displaying system time, milliseconds from UNIX epoch Jan 1, 1970 GMT\n",
    "// If you want more accuracy use System.nanoTime\n",
    "System.out.println(\"Current time:\\t\" + System.currentTimeMillis());"
   ]
  },
  {
   "cell_type": "markdown",
   "metadata": {},
   "source": [
    "### Boolean Control Flow\n",
    "\n",
    "```java\n",
    "if (radius < 0) {\n",
    "  System.out.println(\"Incorrect input\");\n",
    "}\n",
    "else {\n",
    "  double area = radius * radius * 3.14159;\n",
    "  System.out.println(\"Area is \" + area);\n",
    "}\n",
    "```\n",
    "\n",
    "#### Relational Operators\n",
    "\n",
    "`<` `>` `<=` `>=` `==` `!=`\n",
    "\n",
    "#### Boolean data type\n",
    "\n",
    "```java\n",
    "// could be either true or false both are literals\n",
    "boolean someVariable = true;\n",
    "```\n"
   ]
  },
  {
   "cell_type": "code",
   "execution_count": null,
   "metadata": {
    "vscode": {
     "languageId": "java"
    }
   },
   "outputs": [],
   "source": [
    "boolean b = true;\n",
    "i = (int)b; // can't do\n",
    "int i = 1;\n",
    "boolean b = (boolean)i;  // can't do"
   ]
  },
  {
   "cell_type": "markdown",
   "metadata": {},
   "source": [
    "#### If statements\n",
    "\n",
    "```java\n",
    "// for single statement braces are optional\n",
    "if (boolean-expression) {\n",
    "  // execute code block if boolean-expression evaluates to true\n",
    "  statements(s);\n",
    "}\n",
    "\n",
    "if (boolean-expression) {\n",
    "  statements(s)-for-the-true-case;\n",
    "}\n",
    "else {\n",
    "  statements(s)-for-the-false-case;\n",
    "}\n",
    "```\n",
    "You can nest if or if-else within if or if-else statements\n",
    "\n",
    "#### Logical Operators\n",
    "\n",
    "`!`: not `&&`: and `||`: or `^`: exclusive or\n",
    "\n",
    "These can be used for **short-circuiting** or are known as **lazy operators**\n",
    "\n",
    "#### `switch` Statements \n",
    "``` java\n",
    "switch (status) {\n",
    "  case 0:  compute tax for single filers;\n",
    "           break;\n",
    "  case 1:  compute tax for married jointly or qualifying widow(er);\n",
    "           break;\n",
    "  case 2:  compute tax for married filing separately;\n",
    "           break;\n",
    "  case 3:  compute tax for head of household;\n",
    "           break;\n",
    "  default: System.out.println(\"Error: invalid status\");\n",
    "           System.exit(1);\n",
    "} \n",
    "```\n",
    "\n",
    "#### Conditional Operator\n",
    "```java\n",
    "y = (x > 0) ? 1 : −1;\n",
    "```"
   ]
  },
  {
   "cell_type": "markdown",
   "metadata": {},
   "source": [
    "### Math Methods \n",
    "\n",
    "#### Trigonometric Methods\n",
    "\n",
    "| Method            | \tDescription                                            |\n",
    "| ------            | \t-----------                                            |\n",
    "| sin(radians)      | Returns the trigonometric sine of an angle in radians    |\n",
    "| cos(radians)      | Returns the trigonometric cosine of an angle in radians  |\n",
    "| tan(radians)      | Returns the trigonometric tangent of an angle in radians |\n",
    "| toRadians(degree) | Returns the angle in radians for the angle in degrees    |\n",
    "| toDegrees(radians)| Returns the angle in degrees for the angle in radians    |\n",
    "| asin(a)           | Returns the angle in radians for the inverse of sine     |\n",
    "| acos(a)           | Returns the angle in radians for the inverse of cosine   |\n",
    "| atan(a)           | Returns the angle in radians for the inverse of tangent  |\n",
    "\n",
    "#### Exponent Methods\n",
    "\n",
    "| Method    | \tDescription                                            |\n",
    "| ------    | \t-----------                                            |\n",
    "| exp (x)   | Returns e raised to power of x $e^x$                     |\n",
    "| log(x)    | Returns the natural logarithm of x $ln(x)=\\log_e{x}$     |\n",
    "| log10(x)  | Returns the base 10 logarithm of x $ln(x)=\\log_{10}{x}$  |\n",
    "| pow(a , b)| Returns a raised to the power of b $a^b$                 |\n",
    "| sqrt(x)   | Returns the square root of x $\\sqrt{x}$ for $x \\ge 0$    |\n",
    "\n",
    "#### Rounding Methods\n",
    "\n",
    "| Method   | \tDescription                                            |\n",
    "| ------   | \t-----------                                            |\n",
    "| ceil (x) | x is rounded up to its nearest integer, integer returned as a double   |\n",
    "| floor(x) | x is rounded down to its nearest integer, integer returned as a double |\n",
    "| rint(x)  | x is rounded to its nearest integer. If x is equally close to two integers the even one is returned as a double value |\n",
    "| round(x) | Returns `(int)Math.floor(x+0.5)` if x is a float and returns `(long)Math.floor(x+0.5)` if x is a double |"
   ]
  },
  {
   "cell_type": "code",
   "execution_count": null,
   "metadata": {
    "vscode": {
     "languageId": "java"
    }
   },
   "outputs": [],
   "source": [
    "System.out.println(\" Math.ceil(2.1):\\t\" + Math.ceil(2.1));\n",
    "System.out.println(\" Math.ceil(2.0):\\t\" + Math.ceil(2.0));\n",
    "System.out.println(\" Math.ceil(-2.0):\\t\" + Math.ceil(-2.0));\n",
    "System.out.println(\" Math.ceil(-2.1):\\t\" + Math.ceil(-2.1));\n",
    "System.out.println(\" Math.floor(2.1):\\t\" + Math.floor(2.1));\n",
    "System.out.println(\" Math.floor(2.0):\\t\" + Math.floor(2.0));\n",
    "System.out.println(\" Math.floor(-2.0):\\t\" + Math.floor(-2.0));\n",
    "System.out.println(\" Math.floor(-2.1):\\t\" + Math.floor(-2.1));\n",
    "System.out.println(\" Math.rint(2.1):\\t\" + Math.rint(2.1));\n",
    "System.out.println(\" Math.rint(-2.0):\\t\" + Math.rint(-2.0));\n",
    "System.out.println(\" Math.rint(-2.1):\\t\" + Math.rint(-2.1));\n",
    "System.out.println(\" Math.rint(2.5):\\t\" + Math.rint(2.5));\n",
    "System.out.println(\" Math.rint(4.5):\\t\" + Math.rint(4.5));\n",
    "System.out.println(\" Math.rint(-2.5):\\t\" + Math.rint(-2.5));\n",
    "System.out.println(\" Math.round(2.6f):\\t\" + Math.round(2.6f) + \"\\treturn long\");\n",
    "System.out.println(\" Math.round(2.0):\\t\" + Math.round(2.0) + \"\\treturn long\");\n",
    "System.out.println(\" Math.round(-2.0f):\\t\" + Math.round(-2.0f) + \"\\treturn long\");\n",
    "System.out.println(\" Math.round(-2.6):\\t\" + Math.round(-2.6) + \"\\treturn long\");\n",
    "System.out.println(\" Math.round(-2.4):\\t\" + Math.round(-2.4) + \"\\treturn long\");\n",
    "\n",
    "// Other Methods\n",
    "Math.min(2, 3); //=> 2\n",
    "Math.max(2, 3); //=> 3\n",
    "Math.abs(-2.1); //=> 2.1\n",
    "\n",
    "// Random Method - returns random number between [0, 1] \n",
    "(int)(Math.random() * 10);      //=> int between 0 - 9\n",
    "(int)(Math.random() * 10) + 50; //=> int between 50 - 99\n",
    "\n",
    "// Character type - \"string\" 'char' note difference between single and double quotes\n",
    "char letter  = 'A';\n",
    "char numChar = '4';\n",
    "\n"
   ]
  },
  {
   "cell_type": "code",
   "execution_count": null,
   "metadata": {
    "vscode": {
     "languageId": "java"
    }
   },
   "outputs": [],
   "source": [
    "char ch = '\\u03b1';\n",
    "System.out.printf(\"%s %s %s %s\", ch, ++ch ,'\\u03b4', ch += 5);\n",
    "\n",
    "// Char Methods\n",
    "System.out.printf(\"\\n %s %s %s %s %s %s %s\", \n",
    "  Character.isDigit(ch),\n",
    "  Character.isLetter(ch),\n",
    "  Character.isLetterOrDigit(ch),\n",
    "  Character.isLowerCase('a'),\n",
    "  Character.isUpperCase('a'),\n",
    "  Character.toLowerCase('A'),\n",
    "  Character.toUpperCase('a')\n",
    ");\n",
    "\n",
    "String str = \"This is a sample string\";\n",
    "System.out.printf(\"\\n length:\\t%s charAt index 1:\\t%s \\n%s\\n%s\\n%s\",\n",
    "    str.length(), // return length\n",
    "    str.charAt(1), // return char at index\n",
    "    str = str.concat(\" by Lucas\"),\n",
    "    str.toLowerCase(),\n",
    "    str.toUpperCase().trim() // trim removes whitespace char both sides\n",
    ");\n",
    "\n",
    "// Comparison Methods for String\n",
    "System.out.printf(\"\\n%s\\n%s\\nCompareTo:\\t%s\\t%s\\nstartsWith T:\\t%s\\tendsWith s:\\t%s\\ncontains Lucas:\\t%s\\n\",  \n",
    "  str.equals(str.toLowerCase()),\n",
    "  str.equalsIgnoreCase(str.toLowerCase()),\n",
    "  str.compareTo(str.toLowerCase()),\n",
    "  str.compareToIgnoreCase(str.toLowerCase()),\n",
    "  str.startsWith(\"T\"), // can't use chars need to use string\n",
    "  str.endsWith(\"s\"),\n",
    "  str.contains(\"Lucas\")\n",
    ");\n",
    "\n",
    "// TextBook seems incorrect here\n",
    "if (str == \"str\")\n",
    "  System.out.println(\"str === \\\"string\\\" because the type is the same\");\n",
    "else\n",
    "  System.out.println(\"This should not be hit\");\n"
   ]
  },
  {
   "cell_type": "code",
   "execution_count": null,
   "metadata": {
    "vscode": {
     "languageId": "java"
    }
   },
   "outputs": [],
   "source": [
    "\"a\" == \"A\" ? true : false; //=> false\n",
    "\"a\" == \"b\" ? true : false; //=> false\n",
    "\"a\" == \"a\" ? true : false; //=> true\n",
    "String a = \"a\";\n",
    " a  == \"a\" ? true : false; //=> true\n",
    " // this shouldn't work according to textbook but seems to work"
   ]
  },
  {
   "cell_type": "markdown",
   "metadata": {},
   "source": [
    "#### Sub-Strings\n",
    "\n",
    "``` java \n",
    "// use charAt method to get index\n",
    "substring(beginIndex, endIndex)\n",
    "``` \n",
    "```{note}\n",
    "- if `beginIndex` = `endIndex` returns string with length 0\n",
    "- if `beginIndex` > `endIndex` we get runtime error\n",
    "```\n"
   ]
  },
  {
   "cell_type": "code",
   "execution_count": null,
   "metadata": {
    "vscode": {
     "languageId": "java"
    }
   },
   "outputs": [],
   "source": [
    "// CHARS can be incremented\n",
    "\n",
    "char c = 'a'\n",
    "\n",
    "char a = 'a'.charCodeAt(0);\n",
    "char z = 'z'.charCodeAt(0);\n",
    "char A = 'A'.charCodeAt(0);\n",
    "char Z = 'Z'.charCodeAt(0);\n",
    "\n",
    "console.log(`a : ${a} -- z : ${z}\\tA : ${A} -- Z : ${Z}\\t Number in Alphabet: ${z - a}`)\n",
    "\n",
    "const loopAlphabet = (char: number) => {\n",
    "  if(char === 90)\n",
    "    return loopAlphabet(97)\n",
    "  if(char > 122)\n",
    "    return\n",
    "  \n",
    "  // use looping code here\n",
    "  const character = String.fromCharCode(char)\n",
    "  \n",
    "  console.log(`\\x1b[38;5;${character}m\\tcolor code: 38;5;${character}`)\n",
    "\n",
    "  return loopAlphabet(++char)\n",
    "}\n",
    "loopAlphabet(A);"
   ]
  },
  {
   "cell_type": "code",
   "execution_count": 7,
   "metadata": {
    "vscode": {
     "languageId": "java"
    }
   },
   "outputs": [
    {
     "name": "stdout",
     "output_type": "stream",
     "text": [
      "If we add a number to the char then we are adding to the \u001b[1;4;33m character value \u001b[1;24;34m\n",
      "so,char a + 1 = 97 + 1 = 98\n"
     ]
    }
   ],
   "source": [
    "char c = 'a';\n",
    "\n",
    "System.out.println(\"If we add a number to the char then we are adding to the \\033[1;4;33m \" + \"character value \" + \"\\033[1;24;34m\\nso,char \" + c + \" + 1 = \" + (int) c + \" + 1 = \" + (c + 1) );"
   ]
  },
  {
   "cell_type": "code",
   "execution_count": null,
   "metadata": {
    "vscode": {
     "languageId": "java"
    }
   },
   "outputs": [],
   "source": [
    "String str = \"This is a sample string\";\n",
    "str.indexOf(\"T\"); //=> 0\n",
    "str.indexOf('T'); //=> 0\n",
    "str.indexOf(\"M\"); //=> -1 // no match\n",
    "str.indexOf(\"s\", 12 /* from index */); //=> 17\n",
    "\n",
    "// alternative to indexOf ==> lastIndexOf"
   ]
  },
  {
   "cell_type": "code",
   "execution_count": 6,
   "metadata": {
    "vscode": {
     "languageId": "java"
    }
   },
   "outputs": [
    {
     "name": "stdout",
     "output_type": "stream",
     "text": [
      "123 123.000000\n",
      "13\n"
     ]
    }
   ],
   "source": [
    "/* CONVERSION BETWEEN STRINGS AND NUMBERS */\n",
    "\n",
    "String s = 13 + \"\"; // to convert number to string\n",
    "\n",
    "System.out.printf(\"%d %f\\n\",\n",
    "  // convert numeric string into integer\n",
    "  Integer.parseInt(\"123\"), //=> 123 \n",
    "  // convert numeric string into double\n",
    "  Double.parseDouble(\"123\") //=> 123.0 \n",
    ");\n",
    "\n",
    "System.out.println(s);"
   ]
  },
  {
   "cell_type": "code",
   "execution_count": null,
   "metadata": {
    "vscode": {
     "languageId": "java"
    }
   },
   "outputs": [],
   "source": [
    "double amount = 12618.98;\n",
    "double interestRate = 0.0013;\n",
    "double interest = amount * interestRate;\n",
    "System.out.println(\"Interest is $\" + (int)(interest * 100) / 100.0);\n",
    "System.out.printf(\"Interest is $%4.2f\", interest);"
   ]
  },
  {
   "cell_type": "markdown",
   "metadata": {},
   "source": [
    "### Format Strings \n",
    "\n",
    "| Format Specifier | Output                                 |  Example        |\n",
    "| ---------------- | ------                                 |  -------        |\n",
    "| %b               | Boolean Value                          |  true or false  |\n",
    "| %c               | A character                            |  'a'            |\n",
    "| %d               | Decimal Integer                        |  'a'            |\n",
    "| %f               | Floating-Point Number                  |  45.540000      |\n",
    "| %e               | Number in Standard Scientific Notation |  4.556000e + 01 |\n",
    "| %s               | A String                               |  \"Java is cool\" |\n",
    "\n",
    "To escape use %%"
   ]
  },
  {
   "cell_type": "code",
   "execution_count": 8,
   "metadata": {
    "vscode": {
     "languageId": "java"
    }
   },
   "outputs": [
    {
     "name": "stdout",
     "output_type": "stream",
     "text": [
      "0.67\t1231341.0000\t1,231,341.0\t0.67"
     ]
    },
    {
     "data": {
      "text/plain": [
       "java.io.PrintStream@683aac97"
      ]
     },
     "execution_count": 8,
     "metadata": {},
     "output_type": "execute_result"
    }
   ],
   "source": [
    "double num = 1231341;\n",
    "System.out.printf(\"%3.2f\\t%.4f\\t%,.1f\\t%03.2f\", (float)2/3, num, num, (float)2/3);"
   ]
  },
  {
   "cell_type": "code",
   "execution_count": 9,
   "metadata": {
    "vscode": {
     "languageId": "java"
    }
   },
   "outputs": [
    {
     "name": "stdout",
     "output_type": "stream",
     "text": [
      "\\\t\n"
     ]
    }
   ],
   "source": [
    "\n",
    "System.out.println(\"\\\\\" + (char) 9)"
   ]
  },
  {
   "cell_type": "markdown",
   "metadata": {},
   "source": [
    "### Unicode Blocks\n",
    "\n",
    "[Unicodes Blocks](https://unicode.org/charts/#symbols)"
   ]
  },
  {
   "cell_type": "code",
   "execution_count": null,
   "metadata": {
    "vscode": {
     "languageId": "java"
    }
   },
   "outputs": [],
   "source": [
    "while(Character.UnicodeBlock.of('c').equals())"
   ]
  },
  {
   "cell_type": "code",
   "execution_count": 24,
   "metadata": {
    "vscode": {
     "languageId": "java"
    }
   },
   "outputs": [
    {
     "name": "stdout",
     "output_type": "stream",
     "text": [
      "apple\n",
      "orange\n",
      "dragon fruit\n",
      "apple\n",
      "orange\n",
      "dragon fruit\n",
      "red\t\u001b[33;1;41m with better for loop syntax \u001b[0m\n",
      "green\t\u001b[33;1;41m with better for loop syntax \u001b[0m\n",
      "blue\t\u001b[33;1;41m with better for loop syntax \u001b[0m\n",
      "red\n",
      "green\n",
      "blue\n"
     ]
    }
   ],
   "source": [
    "// Looping with Iterators\n",
    "\n",
    "import java.util.*;\n",
    "\n",
    "List<String> fruit = Arrays.asList(\"apple\", \"orange\", \"dragon fruit\");\n",
    "\n",
    "// iterating over a list using a while loop\n",
    "Iterator<String> fruitIt = fruit.iterator();\n",
    "\n",
    "while(fruitIt.hasNext()) {\n",
    "  System.out.println(fruitIt.next());\n",
    "}\n",
    "\n",
    "// iterating over a list using a for loop\n",
    "for(Iterator<String> fruitIt = fruit.iterator(); fruitIt.hasNext();) {\n",
    "  System.out.println(fruitIt.next());\n",
    "}\n",
    "\n",
    "// Using a iterator can be way more efficient with a for loop than with a index\n",
    "List<String> colors = Arrays.asList(\"red\", \"green\", \"blue\");\n",
    "\n",
    "for(String color : colors){\n",
    "  System.out.println(color + \"\\t\\033[33;1;41m with better for loop syntax \\033[0m\");\n",
    "}\n",
    "// rather than\n",
    "for(int i = 0; i < colors.size(); i++){\n",
    "  System.out.println(colors.get(i));\n",
    "}"
   ]
  },
  {
   "cell_type": "code",
   "execution_count": 3,
   "metadata": {
    "vscode": {
     "languageId": "java"
    }
   },
   "outputs": [
    {
     "name": "stdout",
     "output_type": "stream",
     "text": [
      "Enter: "
     ]
    },
    {
     "name": "stdin",
     "output_type": "stream",
     "text": [
      " Hello World\n"
     ]
    },
    {
     "name": "stdout",
     "output_type": "stream",
     "text": [
      "HELLO\n"
     ]
    }
   ],
   "source": [
    "/* SCANNER DOES NOT WORK WITH NOTEBOOKS IN VSCODE*/\n",
    "\n",
    "import java.util.Scanner; \n",
    "Scanner s = new Scanner(System.in); \n",
    "System.out.print(\"Enter: \"); \n",
    "String str = s.next(); \n",
    "System.out.println(str.toUpperCase());\n"
   ]
  },
  {
   "cell_type": "markdown",
   "metadata": {},
   "source": [
    "## Loops\n",
    "\n",
    "### While Loops\n",
    "\n",
    "```java\n",
    "// syntax\n",
    "while (loop-continuation-condition) {\n",
    "  // Loop body\n",
    "  Statement(s);\n",
    "}\n",
    "```\n",
    "\n",
    "### Do While Loops\n",
    "\n",
    "Variation where loop body is executed <u>then</u> loop conditions are checked\n",
    "\n",
    "```java\n",
    "// syntax\n",
    "do {\n",
    "  // Loop body\n",
    "  Statement(s);\n",
    "} while (loop-continuation-condition)\n",
    "```\n",
    "\n",
    "### For Loops \n",
    "\n",
    "``` java\n",
    "// (initialing-action; loop-continuation-condition; action-after-each-interaction)\n",
    "for (int i = 0; i <= 100; i++) {\n",
    "  Statement(s);\n",
    "}\n",
    "```\n",
    "\n",
    "### Loop Keywords\n",
    "\n",
    "#### `Break`\n",
    ": immediately terminates the loop\n",
    "\n",
    "#### `continue`\n",
    ": ends current iteration and goes to the end of loop body\n",
    "\n",
    "```{tip}\n",
    "`break` breaks out of loop and `continue` break out of current iteration\n",
    "```\n",
    "\n",
    "## Methods \n",
    "\n",
    "A method has the following elements\n",
    "  - method name\n",
    "  - method parameters\n",
    "  - return value type \n",
    "  - body\n",
    "\n",
    "``` java\n",
    "/*\n",
    "public static int max(int num1, int num2) => method header\n",
    "max(int num1, int num2)                   => method signature\n",
    "int num1, int num2                        => parameter list\n",
    "\n",
    "public static ==> modifiers\n",
    "int           ==> return value type\n",
    "max           ==> method name\n",
    "num1 num2     ==> formal parameters   */\n",
    "public static int max(int num1, int num2) {\n",
    "  // start of method body\n",
    "  int result;\n",
    "\n",
    "  if (num1 > num2)\n",
    "    result = num2;\n",
    "  else\n",
    "    result = num2;\n",
    "\n",
    "  return result; // return value\n",
    "  // end of method body\n",
    "}\n",
    "\n",
    "// x , y ===> actual parameters (arguments)\n",
    "int z = max(x, y); // invoking a method\n",
    "```\n",
    "\n",
    "The keyword `void` means there is a expectation of no return value"
   ]
  }
 ],
 "metadata": {
  "kernelspec": {
   "display_name": "Java",
   "language": "java",
   "name": "java"
  },
  "language_info": {
   "codemirror_mode": "java",
   "file_extension": ".jshell",
   "mimetype": "text/x-java-source",
   "name": "Java",
   "pygments_lexer": "java",
   "version": "17.0.7+7-Ubuntu-0ubuntu120.04"
  }
 },
 "nbformat": 4,
 "nbformat_minor": 4
}
